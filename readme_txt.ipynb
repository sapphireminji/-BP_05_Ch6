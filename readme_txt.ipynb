{
  "nbformat": 4,
  "nbformat_minor": 0,
  "metadata": {
    "colab": {
      "provenance": [],
      "authorship_tag": "ABX9TyMeKQXfTKE96eNv3uiiGOdB",
      "include_colab_link": true
    },
    "kernelspec": {
      "name": "python3",
      "display_name": "Python 3"
    },
    "language_info": {
      "name": "python"
    }
  },
  "cells": [
    {
      "cell_type": "markdown",
      "metadata": {
        "id": "view-in-github",
        "colab_type": "text"
      },
      "source": [
        "<a href=\"https://colab.research.google.com/github/sapphireminji/-BP_05_Ch6/blob/main/readme_txt.ipynb\" target=\"_parent\"><img src=\"https://colab.research.google.com/assets/colab-badge.svg\" alt=\"Open In Colab\"/></a>"
      ]
    },
    {
      "cell_type": "markdown",
      "source": [
        "1. 2부터 100 사이의 모든 짝수를 출력하는 반복 루트를 작성한다."
      ],
      "metadata": {
        "id": "_sObAWpudnti"
      }
    },
    {
      "cell_type": "code",
      "execution_count": 1,
      "metadata": {
        "colab": {
          "base_uri": "https://localhost:8080/"
        },
        "id": "gujrU-DVc9Ek",
        "outputId": "de013ec0-3f77-45c8-9e7b-58724effb8b0"
      },
      "outputs": [
        {
          "output_type": "stream",
          "name": "stdout",
          "text": [
            "2 4 6 8 10 12 14 16 18 20 22 24 26 28 30 32 34 36 38 40 42 44 46 48 50 52 54 56 58 60 62 64 66 68 70 72 74 76 78 80 82 84 86 88 90 92 94 96 98 100 "
          ]
        }
      ],
      "source": [
        "for i in range(2, 101, 2):\n",
        "    print(i, end=\" \")"
      ]
    },
    {
      "cell_type": "markdown",
      "source": [
        "2. 어떤 사람이 복리 이자율 7%로 1000만원을 저금했을 경우에 2000만원이 되는데 몇 년이 걸리는지 계산하기 위하여 다음과 같은 코드를 작성하였다. 잘못된 점은 없는지 체크해보자."
      ],
      "metadata": {
        "id": "xs2jPHLghjfH"
      }
    },
    {
      "cell_type": "code",
      "source": [
        "year = 0\n",
        "balance = 1000\n",
        "while balance <= 2000:\n",
        "      year = year + 1\n",
        "      interest = balance * 0.07\n",
        "      balance = balance + interest\n",
        "print(year, \"년이 걸립니다.\")"
      ],
      "metadata": {
        "colab": {
          "base_uri": "https://localhost:8080/"
        },
        "id": "skgPzSjvhzPD",
        "outputId": "67c1e09d-57cf-4d3f-9fce-c15339f79b7e"
      },
      "execution_count": 3,
      "outputs": [
        {
          "output_type": "stream",
          "name": "stdout",
          "text": [
            "11 년이 걸립니다.\n"
          ]
        }
      ]
    },
    {
      "cell_type": "markdown",
      "source": [
        "3. 다음 코드의 출력을 예상해보자. 각 단계에서 변수의 값을 예상해보시오."
      ],
      "metadata": {
        "id": "VFO7gZIriQgC"
      }
    },
    {
      "cell_type": "code",
      "source": [
        "n = 1234\n",
        "sum = 0\n",
        "while n > 0:\n",
        "  digit = n % 10\n",
        "  sum = sum + digit \n",
        "  n = n // 10\n",
        "print(sum)"
      ],
      "metadata": {
        "colab": {
          "base_uri": "https://localhost:8080/"
        },
        "id": "Yj1fvEY7iadI",
        "outputId": "5a3cb108-cc61-4171-80bf-65a1908f7613"
      },
      "execution_count": 4,
      "outputs": [
        {
          "output_type": "stream",
          "name": "stdout",
          "text": [
            "10\n"
          ]
        }
      ]
    },
    {
      "cell_type": "markdown",
      "source": [
        "4. 사용자에게 곱셈 퀴즈를 내고 답을 사용자로부터 받는 프로그램에서 사용자가 올바른 답을 입력할 때까지 반복하도록 수정하여 보자."
      ],
      "metadata": {
        "id": "v9RxoZpLitPJ"
      }
    },
    {
      "cell_type": "code",
      "source": [
        "import random as rd\n",
        "\n",
        "while(True):\n",
        "    x = rd.randint(1, 10)\n",
        "    y = rd.randint(1, 10)\n",
        "    cal = int(input(str(x)+ \"*\"+str(y)))\n",
        "    if(cal == (x*y)):\n",
        "      print(\"맞았습니다\", end=\" \")\n",
        "      break;"
      ],
      "metadata": {
        "colab": {
          "base_uri": "https://localhost:8080/"
        },
        "id": "q1bvluVqi25h",
        "outputId": "09001a5b-901b-4808-aad6-4f23877d83ce"
      },
      "execution_count": 9,
      "outputs": [
        {
          "output_type": "stream",
          "name": "stdout",
          "text": [
            "8*864\n",
            "맞았습니다 "
          ]
        }
      ]
    },
    {
      "cell_type": "markdown",
      "source": [
        "5. 사용자가 입력한 정수의 합을 계산하는 프로그램을 작성하자. 사용자가 0을 입력하기 전까지 정수를 계속하여 읽도록 한다."
      ],
      "metadata": {
        "id": "7pbFl7ERj4iV"
      }
    },
    {
      "cell_type": "code",
      "source": [
        "sum = 0\n",
        "while(True):\n",
        "    cal = int(input(\"정수를 입력하시오: \"))\n",
        "    if(cal==0):\n",
        "      break;\n",
        "    sum += cal\n",
        "print(\"합은\", sum, \"입니다.\")"
      ],
      "metadata": {
        "colab": {
          "base_uri": "https://localhost:8080/"
        },
        "id": "olbTF-CLkC7t",
        "outputId": "996da483-e196-42f2-8b2f-d05fd71c6cd5"
      },
      "execution_count": 10,
      "outputs": [
        {
          "output_type": "stream",
          "name": "stdout",
          "text": [
            "정수를 입력하시오: 1\n",
            "정수를 입력하시오: 2\n",
            "정수를 입력하시오: 3\n",
            "정수를 입력하시오: 0\n",
            "합은 6 입니다.\n"
          ]
        }
      ]
    },
    {
      "cell_type": "markdown",
      "source": [
        "6. 난수 생성 함수를 사용하여서 2개의 주사위를 던졌을 때 나오는 수를 다음과 같이 출력하여 보자."
      ],
      "metadata": {
        "id": "oXwf5gWvko7c"
      }
    },
    {
      "cell_type": "code",
      "source": [
        "import random as rd\n",
        "\n",
        "for i in range(3):\n",
        "    x = rd.randint(1, 6)\n",
        "    y = rd.randint(1, 6)\n",
        "    print(\"첫번째 주사위=\",x,\"두번째 주사위=\",y)"
      ],
      "metadata": {
        "colab": {
          "base_uri": "https://localhost:8080/"
        },
        "id": "bGboyDnZkwTP",
        "outputId": "ef5d465a-fe17-477d-bb86-474b4f6e04de"
      },
      "execution_count": 13,
      "outputs": [
        {
          "output_type": "stream",
          "name": "stdout",
          "text": [
            "첫번째 주사위= 6 두번째 주사위= 5\n",
            "첫번째 주사위= 1 두번째 주사위= 5\n",
            "첫번째 주사위= 6 두번째 주사위= 5\n"
          ]
        }
      ]
    },
    {
      "cell_type": "markdown",
      "source": [
        "7.터틀 그래픽과 반복을 사용화여 눈 모양을 그려보자."
      ],
      "metadata": {
        "id": "4_71hziRlSQa"
      }
    },
    {
      "cell_type": "code",
      "source": [
        ">>> import turtle\n",
        ">>> \n",
        ">>> t = turtle.Turtle()\n",
        ">>> t.shape(\"turtle\")\n",
        ">>> t.color(\"blue\")\n",
        ">>> t.lt(90)\n",
        ">>> \n",
        ">>> for i in range (6):\n",
        "\tt.fd(100); t.fd(-30); t.lt(60); t. fd(30); t.fd(-30)\n",
        "\tt.rt(120); t.fd(30); t.fd(-30); t.lt(60); t.fd(-70); t.lt(60)"
      ],
      "metadata": {
        "id": "Ct3hcJXzmzKn"
      },
      "execution_count": null,
      "outputs": []
    },
    {
      "cell_type": "markdown",
      "source": [
        "8.우리는 이번 장에서 터틀 그래픽으로 별을 그려보았다. 이 코드를 응용하여 다음과 같이 10개의 별을 그리는 프로그램을 작성하라. 별들은 시작 각도가 약간씩 다르다."
      ],
      "metadata": {
        "id": "UN_m93EPny4l"
      }
    },
    {
      "cell_type": "code",
      "source": [
        ">>> import turtle\n",
        ">>> t=turtle.Turtle()\n",
        ">>> t.shape(\"turtle\")\n",
        ">>> t.color(\"red\")\n",
        ">>> for i in range(10):\n",
        "\tfor j in range(1,6):\n",
        "\t\tt.left(144)\n",
        "\t\tt.forward(150)\n",
        "\tt.left(10)"
      ],
      "metadata": {
        "id": "B6d5SMZKn-oo"
      },
      "execution_count": null,
      "outputs": []
    },
    {
      "cell_type": "markdown",
      "source": [
        "9.반복과 난수를 함께 사용하면 화면에 랜덤한 원을 그릴 수 있다. 화면에 10개의 랜덤한 원을 그리는 프로그램을 작성하라. 원의 중심과 반지름이 모두 난수여야 한다."
      ],
      "metadata": {
        "id": "d5B6OqvmpJt2"
      }
    },
    {
      "cell_type": "code",
      "source": [
        ">>> import turtle\n",
        ">>> import random\n",
        ">>> t=turtle.Turtle()\n",
        ">>> t.shape(\"turtle\")\n",
        ">>> for i in range(10):\n",
        "\tx=random.randint(-200,200)\n",
        "\ty=random.randint(-200,200)\n",
        "\tr=random.randint(1,100)\n",
        "\tt.up()\n",
        "\tt.goto(x,y)\n",
        "\tt.down()\n",
        "\tt.circle(r)"
      ],
      "metadata": {
        "id": "Q_0n7T_xpVGi"
      },
      "execution_count": null,
      "outputs": []
    },
    {
      "cell_type": "markdown",
      "source": [
        "10. 다음과 같이 거북이를 왕복 달리기시키는 프로그램을 작성해보자."
      ],
      "metadata": {
        "id": "aRLUyIzCp47q"
      }
    },
    {
      "cell_type": "code",
      "source": [
        ">>> import turtle\n",
        ">>> \n",
        ">>> t = turtle.Turtle()\n",
        ">>> t.shape(\"turtle\")\n",
        ">>> \n",
        ">>> for i in range(5):\n",
        "\tt.fd(200)\n",
        "\tt.rt(90)\n",
        "\tt.fd(20)\n",
        "\tt.rt(90)\n",
        "\tt.fd(200)\n",
        "\tt.lt(90)\n",
        "\tt.fd(20)\n",
        "\tt.lt(90)"
      ],
      "metadata": {
        "id": "3Lsbbo6cp_y7"
      },
      "execution_count": null,
      "outputs": []
    },
    {
      "cell_type": "markdown",
      "source": [
        "11.다음의 터틀 그래픽 프로그램을 분석해보자. 학습하지 않은 함수가 있다면 인터넷에서 조사해보자."
      ],
      "metadata": {
        "id": "q4w67aNIqgXk"
      }
    },
    {
      "cell_type": "code",
      "source": [
        ">>> import turtle\n",
        ">>> t=turtle.Turtle()\n",
        ">>> t.shape(\"turtle\")\n",
        ">>> t.color(\"red\",\"yellow\")\n",
        ">>> t.begin_fill()\n",
        ">>> while True:\n",
        "\tt.fd(200)\n",
        "\tt.left(170)\n",
        "\tif ads(t.pos())<1:\n",
        "\t    break\n",
        "t.end_fill()"
      ],
      "metadata": {
        "id": "P-5J-sokqqN1"
      },
      "execution_count": null,
      "outputs": []
    },
    {
      "cell_type": "markdown",
      "source": [
        "12. 터틀 그래픽과 반복을 사용하여 싸인 그래프를 그려보자. 거북이를 싸인값에 따라 움직이면 된다."
      ],
      "metadata": {
        "id": "FwiQgH6JrS5j"
      }
    },
    {
      "cell_type": "code",
      "source": [
        "import turtle\n",
        "import math\n",
        "\n",
        "t = turtle.Turle()\n",
        "t.shape(\"turtle\")\n",
        "t.color(\"red\")\n",
        "\n",
        "for i in range(360):\n",
        "    sine=math.sin(math.pi*i/180)\n",
        "    print(sine)\n",
        "    t.goto(i,sine*100)"
      ],
      "metadata": {
        "id": "foeASVQqrbZv"
      },
      "execution_count": null,
      "outputs": []
    }
  ]
}